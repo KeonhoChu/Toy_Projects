{
  "nbformat": 4,
  "nbformat_minor": 0,
  "metadata": {
    "colab": {
      "provenance": []
    },
    "kernelspec": {
      "name": "python3",
      "display_name": "Python 3"
    },
    "language_info": {
      "name": "python"
    }
  },
  "cells": [
    {
      "cell_type": "markdown",
      "source": [
        "### Preparing"
      ],
      "metadata": {
        "id": "SrZdcYoYdtUT"
      }
    },
    {
      "cell_type": "code",
      "source": [
        "import csv\n",
        "import pandas as pd\n",
        "import seaborn as sns\n",
        "import matplotlib.pyplot as plt\n",
        "import numpy as np\n",
        "from sklearn.metrics import mean_squared_error, r2_score\n",
        "from sklearn.model_selection import train_test_split\n",
        "from keras.models import Sequential\n",
        "from keras.layers import Dense\n",
        "from sklearn.neural_network import MLPClassifier\n",
        "from sklearn.metrics import roc_auc_score\n",
        "from sklearn.metrics import roc_curve\n",
        "from sklearn.metrics import auc"
      ],
      "metadata": {
        "id": "_uqiwCz2ItBq"
      },
      "execution_count": null,
      "outputs": []
    },
    {
      "cell_type": "code",
      "source": [
        "from google.colab import drive\n",
        "drive.mount('/content/drive')"
      ],
      "metadata": {
        "colab": {
          "base_uri": "https://localhost:8080/"
        },
        "id": "f9dqmRt1xA1x",
        "outputId": "30acf2f5-065d-4b95-ea33-ede61df8b20f"
      },
      "execution_count": null,
      "outputs": [
        {
          "output_type": "stream",
          "name": "stdout",
          "text": [
            "Mounted at /content/drive\n"
          ]
        }
      ]
    },
    {
      "cell_type": "code",
      "execution_count": null,
      "metadata": {
        "id": "nursNlxaIRc_"
      },
      "outputs": [],
      "source": [
        "data = pd.read_csv(\"/content/drive/MyDrive/sepsis/SEPSIS_8.csv\")\n",
        "df=data"
      ]
    },
    {
      "cell_type": "code",
      "source": [],
      "metadata": {
        "id": "gccFtNnDQpCY"
      },
      "execution_count": null,
      "outputs": []
    },
    {
      "cell_type": "code",
      "source": [
        "df"
      ],
      "metadata": {
        "id": "A3JK1A-WxH1u",
        "colab": {
          "base_uri": "https://localhost:8080/",
          "height": 424
        },
        "outputId": "badda348-9691-445b-ab4a-4257b9bbff21"
      },
      "execution_count": null,
      "outputs": [
        {
          "output_type": "execute_result",
          "data": {
            "text/plain": [
              "     AGE  SEX  height  weight  MBP  mcg/kg/min  PaO2/FIO2  MV  GCS  \\\n",
              "0     61    1   162.0   78.00   45       0.103        196   0   14   \n",
              "1     82    1   153.0   47.30   52       0.085        462   0   13   \n",
              "2     65    1   160.0   40.00   42       0.125        302   1   12   \n",
              "3     24    1   160.0   61.00   54       0.000        260   1    7   \n",
              "4     72    1   148.0   32.00   56       0.156        297   1    7   \n",
              "..   ...  ...     ...     ...  ...         ...        ...  ..  ...   \n",
              "745   83    0   160.0   85.00   65       0.000        350   1    5   \n",
              "746   79    0   174.0   68.00   61       0.000        163   0   15   \n",
              "747   65    0   165.0   53.00   67       0.132        238   1    6   \n",
              "748   62    0   169.0   78.70   68       0.125        338   0   15   \n",
              "749   54    0   170.0   58.55   52       0.256         49   1    8   \n",
              "\n",
              "     Urine output  Plt   Bil  LACTATE    Cr  SOFA  DEATH  \n",
              "0            1230   42  0.86      4.1  0.56    10      0  \n",
              "1             112   80  0.57      2.8  5.87    10      0  \n",
              "2             800   95  0.62      0.7  0.11     9      0  \n",
              "3            2535  206  0.52      2.3  0.51     7      0  \n",
              "4             335  216  0.41      5.0  0.34    13      1  \n",
              "..            ...  ...   ...      ...   ...   ...    ...  \n",
              "745          1630  233  0.58      1.6  0.61     7      1  \n",
              "746          1623  108  0.61      2.0  1.06     4      0  \n",
              "747          2090  164  0.77      2.4  1.77    11      1  \n",
              "748          3710   19  1.22      2.5  2.43    12      0  \n",
              "749          1200  477  0.24      3.4  0.66    12      1  \n",
              "\n",
              "[750 rows x 16 columns]"
            ],
            "text/html": [
              "\n",
              "  <div id=\"df-b0c097fb-cdc7-4375-b3c3-21f7c2f368f5\">\n",
              "    <div class=\"colab-df-container\">\n",
              "      <div>\n",
              "<style scoped>\n",
              "    .dataframe tbody tr th:only-of-type {\n",
              "        vertical-align: middle;\n",
              "    }\n",
              "\n",
              "    .dataframe tbody tr th {\n",
              "        vertical-align: top;\n",
              "    }\n",
              "\n",
              "    .dataframe thead th {\n",
              "        text-align: right;\n",
              "    }\n",
              "</style>\n",
              "<table border=\"1\" class=\"dataframe\">\n",
              "  <thead>\n",
              "    <tr style=\"text-align: right;\">\n",
              "      <th></th>\n",
              "      <th>AGE</th>\n",
              "      <th>SEX</th>\n",
              "      <th>height</th>\n",
              "      <th>weight</th>\n",
              "      <th>MBP</th>\n",
              "      <th>mcg/kg/min</th>\n",
              "      <th>PaO2/FIO2</th>\n",
              "      <th>MV</th>\n",
              "      <th>GCS</th>\n",
              "      <th>Urine output</th>\n",
              "      <th>Plt</th>\n",
              "      <th>Bil</th>\n",
              "      <th>LACTATE</th>\n",
              "      <th>Cr</th>\n",
              "      <th>SOFA</th>\n",
              "      <th>DEATH</th>\n",
              "    </tr>\n",
              "  </thead>\n",
              "  <tbody>\n",
              "    <tr>\n",
              "      <th>0</th>\n",
              "      <td>61</td>\n",
              "      <td>1</td>\n",
              "      <td>162.0</td>\n",
              "      <td>78.00</td>\n",
              "      <td>45</td>\n",
              "      <td>0.103</td>\n",
              "      <td>196</td>\n",
              "      <td>0</td>\n",
              "      <td>14</td>\n",
              "      <td>1230</td>\n",
              "      <td>42</td>\n",
              "      <td>0.86</td>\n",
              "      <td>4.1</td>\n",
              "      <td>0.56</td>\n",
              "      <td>10</td>\n",
              "      <td>0</td>\n",
              "    </tr>\n",
              "    <tr>\n",
              "      <th>1</th>\n",
              "      <td>82</td>\n",
              "      <td>1</td>\n",
              "      <td>153.0</td>\n",
              "      <td>47.30</td>\n",
              "      <td>52</td>\n",
              "      <td>0.085</td>\n",
              "      <td>462</td>\n",
              "      <td>0</td>\n",
              "      <td>13</td>\n",
              "      <td>112</td>\n",
              "      <td>80</td>\n",
              "      <td>0.57</td>\n",
              "      <td>2.8</td>\n",
              "      <td>5.87</td>\n",
              "      <td>10</td>\n",
              "      <td>0</td>\n",
              "    </tr>\n",
              "    <tr>\n",
              "      <th>2</th>\n",
              "      <td>65</td>\n",
              "      <td>1</td>\n",
              "      <td>160.0</td>\n",
              "      <td>40.00</td>\n",
              "      <td>42</td>\n",
              "      <td>0.125</td>\n",
              "      <td>302</td>\n",
              "      <td>1</td>\n",
              "      <td>12</td>\n",
              "      <td>800</td>\n",
              "      <td>95</td>\n",
              "      <td>0.62</td>\n",
              "      <td>0.7</td>\n",
              "      <td>0.11</td>\n",
              "      <td>9</td>\n",
              "      <td>0</td>\n",
              "    </tr>\n",
              "    <tr>\n",
              "      <th>3</th>\n",
              "      <td>24</td>\n",
              "      <td>1</td>\n",
              "      <td>160.0</td>\n",
              "      <td>61.00</td>\n",
              "      <td>54</td>\n",
              "      <td>0.000</td>\n",
              "      <td>260</td>\n",
              "      <td>1</td>\n",
              "      <td>7</td>\n",
              "      <td>2535</td>\n",
              "      <td>206</td>\n",
              "      <td>0.52</td>\n",
              "      <td>2.3</td>\n",
              "      <td>0.51</td>\n",
              "      <td>7</td>\n",
              "      <td>0</td>\n",
              "    </tr>\n",
              "    <tr>\n",
              "      <th>4</th>\n",
              "      <td>72</td>\n",
              "      <td>1</td>\n",
              "      <td>148.0</td>\n",
              "      <td>32.00</td>\n",
              "      <td>56</td>\n",
              "      <td>0.156</td>\n",
              "      <td>297</td>\n",
              "      <td>1</td>\n",
              "      <td>7</td>\n",
              "      <td>335</td>\n",
              "      <td>216</td>\n",
              "      <td>0.41</td>\n",
              "      <td>5.0</td>\n",
              "      <td>0.34</td>\n",
              "      <td>13</td>\n",
              "      <td>1</td>\n",
              "    </tr>\n",
              "    <tr>\n",
              "      <th>...</th>\n",
              "      <td>...</td>\n",
              "      <td>...</td>\n",
              "      <td>...</td>\n",
              "      <td>...</td>\n",
              "      <td>...</td>\n",
              "      <td>...</td>\n",
              "      <td>...</td>\n",
              "      <td>...</td>\n",
              "      <td>...</td>\n",
              "      <td>...</td>\n",
              "      <td>...</td>\n",
              "      <td>...</td>\n",
              "      <td>...</td>\n",
              "      <td>...</td>\n",
              "      <td>...</td>\n",
              "      <td>...</td>\n",
              "    </tr>\n",
              "    <tr>\n",
              "      <th>745</th>\n",
              "      <td>83</td>\n",
              "      <td>0</td>\n",
              "      <td>160.0</td>\n",
              "      <td>85.00</td>\n",
              "      <td>65</td>\n",
              "      <td>0.000</td>\n",
              "      <td>350</td>\n",
              "      <td>1</td>\n",
              "      <td>5</td>\n",
              "      <td>1630</td>\n",
              "      <td>233</td>\n",
              "      <td>0.58</td>\n",
              "      <td>1.6</td>\n",
              "      <td>0.61</td>\n",
              "      <td>7</td>\n",
              "      <td>1</td>\n",
              "    </tr>\n",
              "    <tr>\n",
              "      <th>746</th>\n",
              "      <td>79</td>\n",
              "      <td>0</td>\n",
              "      <td>174.0</td>\n",
              "      <td>68.00</td>\n",
              "      <td>61</td>\n",
              "      <td>0.000</td>\n",
              "      <td>163</td>\n",
              "      <td>0</td>\n",
              "      <td>15</td>\n",
              "      <td>1623</td>\n",
              "      <td>108</td>\n",
              "      <td>0.61</td>\n",
              "      <td>2.0</td>\n",
              "      <td>1.06</td>\n",
              "      <td>4</td>\n",
              "      <td>0</td>\n",
              "    </tr>\n",
              "    <tr>\n",
              "      <th>747</th>\n",
              "      <td>65</td>\n",
              "      <td>0</td>\n",
              "      <td>165.0</td>\n",
              "      <td>53.00</td>\n",
              "      <td>67</td>\n",
              "      <td>0.132</td>\n",
              "      <td>238</td>\n",
              "      <td>1</td>\n",
              "      <td>6</td>\n",
              "      <td>2090</td>\n",
              "      <td>164</td>\n",
              "      <td>0.77</td>\n",
              "      <td>2.4</td>\n",
              "      <td>1.77</td>\n",
              "      <td>11</td>\n",
              "      <td>1</td>\n",
              "    </tr>\n",
              "    <tr>\n",
              "      <th>748</th>\n",
              "      <td>62</td>\n",
              "      <td>0</td>\n",
              "      <td>169.0</td>\n",
              "      <td>78.70</td>\n",
              "      <td>68</td>\n",
              "      <td>0.125</td>\n",
              "      <td>338</td>\n",
              "      <td>0</td>\n",
              "      <td>15</td>\n",
              "      <td>3710</td>\n",
              "      <td>19</td>\n",
              "      <td>1.22</td>\n",
              "      <td>2.5</td>\n",
              "      <td>2.43</td>\n",
              "      <td>12</td>\n",
              "      <td>0</td>\n",
              "    </tr>\n",
              "    <tr>\n",
              "      <th>749</th>\n",
              "      <td>54</td>\n",
              "      <td>0</td>\n",
              "      <td>170.0</td>\n",
              "      <td>58.55</td>\n",
              "      <td>52</td>\n",
              "      <td>0.256</td>\n",
              "      <td>49</td>\n",
              "      <td>1</td>\n",
              "      <td>8</td>\n",
              "      <td>1200</td>\n",
              "      <td>477</td>\n",
              "      <td>0.24</td>\n",
              "      <td>3.4</td>\n",
              "      <td>0.66</td>\n",
              "      <td>12</td>\n",
              "      <td>1</td>\n",
              "    </tr>\n",
              "  </tbody>\n",
              "</table>\n",
              "<p>750 rows × 16 columns</p>\n",
              "</div>\n",
              "      <button class=\"colab-df-convert\" onclick=\"convertToInteractive('df-b0c097fb-cdc7-4375-b3c3-21f7c2f368f5')\"\n",
              "              title=\"Convert this dataframe to an interactive table.\"\n",
              "              style=\"display:none;\">\n",
              "        \n",
              "  <svg xmlns=\"http://www.w3.org/2000/svg\" height=\"24px\"viewBox=\"0 0 24 24\"\n",
              "       width=\"24px\">\n",
              "    <path d=\"M0 0h24v24H0V0z\" fill=\"none\"/>\n",
              "    <path d=\"M18.56 5.44l.94 2.06.94-2.06 2.06-.94-2.06-.94-.94-2.06-.94 2.06-2.06.94zm-11 1L8.5 8.5l.94-2.06 2.06-.94-2.06-.94L8.5 2.5l-.94 2.06-2.06.94zm10 10l.94 2.06.94-2.06 2.06-.94-2.06-.94-.94-2.06-.94 2.06-2.06.94z\"/><path d=\"M17.41 7.96l-1.37-1.37c-.4-.4-.92-.59-1.43-.59-.52 0-1.04.2-1.43.59L10.3 9.45l-7.72 7.72c-.78.78-.78 2.05 0 2.83L4 21.41c.39.39.9.59 1.41.59.51 0 1.02-.2 1.41-.59l7.78-7.78 2.81-2.81c.8-.78.8-2.07 0-2.86zM5.41 20L4 18.59l7.72-7.72 1.47 1.35L5.41 20z\"/>\n",
              "  </svg>\n",
              "      </button>\n",
              "      \n",
              "  <style>\n",
              "    .colab-df-container {\n",
              "      display:flex;\n",
              "      flex-wrap:wrap;\n",
              "      gap: 12px;\n",
              "    }\n",
              "\n",
              "    .colab-df-convert {\n",
              "      background-color: #E8F0FE;\n",
              "      border: none;\n",
              "      border-radius: 50%;\n",
              "      cursor: pointer;\n",
              "      display: none;\n",
              "      fill: #1967D2;\n",
              "      height: 32px;\n",
              "      padding: 0 0 0 0;\n",
              "      width: 32px;\n",
              "    }\n",
              "\n",
              "    .colab-df-convert:hover {\n",
              "      background-color: #E2EBFA;\n",
              "      box-shadow: 0px 1px 2px rgba(60, 64, 67, 0.3), 0px 1px 3px 1px rgba(60, 64, 67, 0.15);\n",
              "      fill: #174EA6;\n",
              "    }\n",
              "\n",
              "    [theme=dark] .colab-df-convert {\n",
              "      background-color: #3B4455;\n",
              "      fill: #D2E3FC;\n",
              "    }\n",
              "\n",
              "    [theme=dark] .colab-df-convert:hover {\n",
              "      background-color: #434B5C;\n",
              "      box-shadow: 0px 1px 3px 1px rgba(0, 0, 0, 0.15);\n",
              "      filter: drop-shadow(0px 1px 2px rgba(0, 0, 0, 0.3));\n",
              "      fill: #FFFFFF;\n",
              "    }\n",
              "  </style>\n",
              "\n",
              "      <script>\n",
              "        const buttonEl =\n",
              "          document.querySelector('#df-b0c097fb-cdc7-4375-b3c3-21f7c2f368f5 button.colab-df-convert');\n",
              "        buttonEl.style.display =\n",
              "          google.colab.kernel.accessAllowed ? 'block' : 'none';\n",
              "\n",
              "        async function convertToInteractive(key) {\n",
              "          const element = document.querySelector('#df-b0c097fb-cdc7-4375-b3c3-21f7c2f368f5');\n",
              "          const dataTable =\n",
              "            await google.colab.kernel.invokeFunction('convertToInteractive',\n",
              "                                                     [key], {});\n",
              "          if (!dataTable) return;\n",
              "\n",
              "          const docLinkHtml = 'Like what you see? Visit the ' +\n",
              "            '<a target=\"_blank\" href=https://colab.research.google.com/notebooks/data_table.ipynb>data table notebook</a>'\n",
              "            + ' to learn more about interactive tables.';\n",
              "          element.innerHTML = '';\n",
              "          dataTable['output_type'] = 'display_data';\n",
              "          await google.colab.output.renderOutput(dataTable, element);\n",
              "          const docLink = document.createElement('div');\n",
              "          docLink.innerHTML = docLinkHtml;\n",
              "          element.appendChild(docLink);\n",
              "        }\n",
              "      </script>\n",
              "    </div>\n",
              "  </div>\n",
              "  "
            ]
          },
          "metadata": {},
          "execution_count": 63
        }
      ]
    },
    {
      "cell_type": "code",
      "source": [
        "df.describe()"
      ],
      "metadata": {
        "id": "ikLC21L6Ir4L"
      },
      "execution_count": null,
      "outputs": []
    },
    {
      "cell_type": "code",
      "source": [
        "df.isna().sum()"
      ],
      "metadata": {
        "id": "GcQ1m0lfNF5U"
      },
      "execution_count": null,
      "outputs": []
    },
    {
      "cell_type": "code",
      "source": [
        "X= df.iloc[:,:-1]\n",
        "y= df.iloc[:,-1]"
      ],
      "metadata": {
        "id": "bWlz3ktqN4wO"
      },
      "execution_count": null,
      "outputs": []
    },
    {
      "cell_type": "code",
      "source": [
        "X"
      ],
      "metadata": {
        "id": "7Er_HC_5Uccu"
      },
      "execution_count": null,
      "outputs": []
    },
    {
      "cell_type": "code",
      "source": [
        "y.unique()"
      ],
      "metadata": {
        "colab": {
          "base_uri": "https://localhost:8080/"
        },
        "id": "iczX9q_aqmAI",
        "outputId": "e05b60f3-e639-4ed5-f68d-cdf628516f26"
      },
      "execution_count": null,
      "outputs": [
        {
          "output_type": "execute_result",
          "data": {
            "text/plain": [
              "array([0, 1])"
            ]
          },
          "metadata": {},
          "execution_count": 65
        }
      ]
    },
    {
      "cell_type": "markdown",
      "source": [
        "### Model Pipeline Construction"
      ],
      "metadata": {
        "id": "AfbMJHzOW-kj"
      }
    },
    {
      "cell_type": "markdown",
      "source": [
        "#### train, validation, and test set split"
      ],
      "metadata": {
        "id": "8fOAWLE9f7dP"
      }
    },
    {
      "cell_type": "code",
      "source": [
        "import warnings\n",
        "warnings.filterwarnings('ignore')\n",
        "import xgboost as xgb\n",
        "xgb.set_config(verbosity=0)"
      ],
      "metadata": {
        "id": "qhqg-4QVXX2V"
      },
      "execution_count": null,
      "outputs": []
    },
    {
      "cell_type": "code",
      "source": [
        "X_train, X_test, y_train, y_test = train_test_split(X, y, random_state=88, train_size=0.8)\n",
        "# X_test, X_val, y_test, y_val = train_test_split(X_test, y_test, random_state=88, test_size=0.8)"
      ],
      "metadata": {
        "id": "JlnBuwelf_Be"
      },
      "execution_count": null,
      "outputs": []
    },
    {
      "cell_type": "code",
      "source": [
        "# scaling X data\n",
        "\n",
        "X_train_scaled = (X_train - X_train.mean(axis=0)) / X_train.std(axis=0)\n",
        "# X_val_scaled = (X_val - X_val.mean(axis=0)) / X_val.std(axis=0)\n",
        "X_test_scaled= (X_test - X_test.mean(axis=0)) / X_test.std(axis=0)"
      ],
      "metadata": {
        "id": "kDcPHjf2YnWN"
      },
      "execution_count": null,
      "outputs": []
    },
    {
      "cell_type": "code",
      "source": [
        "y"
      ],
      "metadata": {
        "colab": {
          "base_uri": "https://localhost:8080/"
        },
        "id": "ftCOIEida1uC",
        "outputId": "d0702db2-b868-4c15-bf42-37292f3bf78b"
      },
      "execution_count": null,
      "outputs": [
        {
          "output_type": "execute_result",
          "data": {
            "text/plain": [
              "0      0\n",
              "1      0\n",
              "2      0\n",
              "3      0\n",
              "4      1\n",
              "      ..\n",
              "745    1\n",
              "746    0\n",
              "747    1\n",
              "748    0\n",
              "749    1\n",
              "Name: DEATH, Length: 750, dtype: int64"
            ]
          },
          "metadata": {},
          "execution_count": 55
        }
      ]
    },
    {
      "cell_type": "markdown",
      "source": [
        "#### Models"
      ],
      "metadata": {
        "id": "orwrLt5XYTSH"
      }
    },
    {
      "cell_type": "markdown",
      "source": [
        "##### Linear Regression"
      ],
      "metadata": {
        "id": "zvTFH9tWXCkr"
      }
    },
    {
      "cell_type": "code",
      "source": [
        "from sklearn.linear_model import LinearRegression\n",
        "from sklearn.model_selection import cross_val_score\n",
        "\n",
        "def cross_val(classifier, num_splits=10):\n",
        "  model=classifier\n",
        "  scores=cross_val_score(model, X, y, cv=num_splits)\n",
        "  print('정확도: ',np.round(scores,2))\n",
        "  print('평균 정확도: %0.2f' % (scores.mean()))\n",
        "\n",
        "lin_reg = LinearRegression()\n",
        "lin_reg.fit(X_train,y_train)\n",
        "y_pred = lin_reg.predict(X_test)\n",
        "\n",
        "from sklearn.metrics import mean_squared_error\n",
        "import numpy as np\n",
        "mse=mean_squared_error(y_test, y_pred)\n",
        "rmse=np.sqrt(mse)\n",
        "print(\"RMSE: %0.2f\" %(rmse))"
      ],
      "metadata": {
        "colab": {
          "base_uri": "https://localhost:8080/"
        },
        "id": "-jIWYI8-XA_Y",
        "outputId": "f60d394f-0f0d-4ebe-a8c6-2d9af6f76f3e"
      },
      "execution_count": null,
      "outputs": [
        {
          "output_type": "stream",
          "name": "stdout",
          "text": [
            "RMSE: 0.42\n"
          ]
        }
      ]
    },
    {
      "cell_type": "markdown",
      "source": [
        "##### Logistic Regression"
      ],
      "metadata": {
        "id": "IK9baUk9XOiM"
      }
    },
    {
      "cell_type": "code",
      "source": [
        "from sklearn.linear_model import LogisticRegression\n",
        "\n",
        "reg = LogisticRegression()\n",
        "reg.fit(X_train,y_train)\n",
        "y_pred=reg.predict(X_test)\n",
        "mse=mean_squared_error(y_test, y_pred)\n",
        "rmse=np.sqrt(mse)\n",
        "print(\"RMSE: %0.2f\" %(rmse))"
      ],
      "metadata": {
        "colab": {
          "base_uri": "https://localhost:8080/"
        },
        "id": "D4rNewjnXSHg",
        "outputId": "6f8d204f-a827-4525-9b45-5165ba8d46e1"
      },
      "execution_count": null,
      "outputs": [
        {
          "output_type": "stream",
          "name": "stdout",
          "text": [
            "RMSE: 0.51\n"
          ]
        }
      ]
    },
    {
      "cell_type": "markdown",
      "source": [
        "##### Decision Tree"
      ],
      "metadata": {
        "id": "JXqpC_XbXaM3"
      }
    },
    {
      "cell_type": "code",
      "source": [
        "from sklearn.tree import DecisionTreeClassifier\n",
        "\n",
        "dtc = DecisionTreeClassifier()\n",
        "dtc.fit(X_train, y_train)\n",
        "y_pred = dtc.predict(X_test)"
      ],
      "metadata": {
        "id": "SYR1C2lRXglg"
      },
      "execution_count": null,
      "outputs": []
    },
    {
      "cell_type": "markdown",
      "source": [
        "##### Random Forest"
      ],
      "metadata": {
        "id": "ltx9LWu9Xi9q"
      }
    },
    {
      "cell_type": "code",
      "source": [
        "from sklearn.ensemble import RandomForestClassifier\n",
        "rfc = RandomForestClassifier()\n",
        "rfc.fit(X_train, y_train)\n",
        "y_pred = rfc.predict(X_test)"
      ],
      "metadata": {
        "id": "jOBM_VwuXnjk"
      },
      "execution_count": null,
      "outputs": []
    },
    {
      "cell_type": "markdown",
      "source": [
        "##### SVC"
      ],
      "metadata": {
        "id": "F1JkeuhCftxl"
      }
    },
    {
      "cell_type": "code",
      "source": [
        "from sklearn.svm import SVC\n",
        "\n",
        "svc = SVC()\n",
        "svc.fit(X_train_scaled, y_train)\n",
        "y_pred = svc.predict(X_test_scaled)\n",
        "\n",
        "# scores=SVC.score(X_test_scaled, y_test)\n",
        "scores = SVC.score(X_test_scaled, y_pred)\n",
        "print(\"정확도: \",np.round(scores,2))"
      ],
      "metadata": {
        "id": "3bSo3zfGXzd5"
      },
      "execution_count": null,
      "outputs": []
    },
    {
      "cell_type": "markdown",
      "source": [
        "##### XGBOOST"
      ],
      "metadata": {
        "id": "KDFZRoCLfoPz"
      }
    },
    {
      "cell_type": "code",
      "source": [
        "import xgboost as xgb\n",
        "from xgboost import XGBClassifier\n",
        "from xgboost import plot_importance\n",
        "\n",
        "xgb=XGBClassifier()\n",
        "xgb.fit(X_train, y_train)\n",
        "y_pred= xgb.predict(X_test)\n",
        "\n",
        "scores=xgb.score(X_test, y_test)\n",
        "print(\"정확도: \",np.round(scores,2))"
      ],
      "metadata": {
        "colab": {
          "base_uri": "https://localhost:8080/"
        },
        "id": "d4HbjwJtXtWl",
        "outputId": "3167ce46-2d70-41ac-b31d-a9933e93356f"
      },
      "execution_count": null,
      "outputs": [
        {
          "output_type": "stream",
          "name": "stdout",
          "text": [
            "정확도:  0.76\n"
          ]
        }
      ]
    },
    {
      "cell_type": "markdown",
      "source": [
        "##### KNN"
      ],
      "metadata": {
        "id": "Eb_zF2sza0cX"
      }
    },
    {
      "cell_type": "code",
      "source": [
        "from sklearn.neighbors import KNeighborsClassifier\n",
        "knn = KNeighborsClassifier()\n",
        "knn.fit(X_train, y_train)\n",
        "y_pred = knn.predict(X_test)"
      ],
      "metadata": {
        "id": "awMmGDt1cHo2"
      },
      "execution_count": null,
      "outputs": []
    },
    {
      "cell_type": "markdown",
      "source": [
        "##### MLP"
      ],
      "metadata": {
        "id": "fGq-o8eueaRH"
      }
    },
    {
      "cell_type": "code",
      "source": [
        "from sklearn.neural_network import MLPClassifier, MLPRegressor\n",
        "from sklearn.model_selection import train_test_split\n",
        "from sklearn.metrics import accuracy_score\n",
        "from sklearn.metrics import confusion_matrix\n",
        "\n",
        "mlp=MLPClassifier(hidden_layer_sizes=(100,100,),random_state=42, max_iter=1000, learning_rate_init=0.0001, solver='lbfgs', alpha=0.000001, early_stopping=False, shuffle=True, warm_start=False)\n",
        "\n",
        "mlp.fit(X_train,y_train)\n",
        "\n",
        "train_set_score = mlp.score(X_train, y_train)\n",
        "# val_set_score = mlp.score(X_val_scaled, y_val)\n",
        "test_set_score=mlp.score(X_test, y_test)\n",
        "\n",
        "print(\"Train set score: {:.3f}\".format(train_set_score))\n",
        "# print(\"Val set score: {:.3f}\".format(val_set_score))\n",
        "print(\"Test set score: {:.3f}\".format(test_set_score))"
      ],
      "metadata": {
        "colab": {
          "base_uri": "https://localhost:8080/"
        },
        "id": "3jkn2-dOeVOF",
        "outputId": "f45fe70e-6988-492d-c5e1-a05ca113a9c9"
      },
      "execution_count": null,
      "outputs": [
        {
          "output_type": "stream",
          "name": "stdout",
          "text": [
            "Train set score: 0.873\n",
            "Test set score: 0.700\n"
          ]
        }
      ]
    },
    {
      "cell_type": "markdown",
      "source": [
        "#### Pipeline"
      ],
      "metadata": {
        "id": "uAwJVp_PYYFL"
      }
    },
    {
      "cell_type": "code",
      "source": [
        "from sklearn import metrics\n",
        "from sklearn.metrics import classification_report, confusion_matrix, f1_score, precision_score, recall_score, accuracy_score\n",
        "\n",
        "import seaborn as sns\n",
        "import matplotlib.pyplot as plt\n",
        "import pandas as pd"
      ],
      "metadata": {
        "id": "xO5QaBcwYs77"
      },
      "execution_count": null,
      "outputs": []
    },
    {
      "cell_type": "code",
      "source": [
        "from sklearn.linear_model import LogisticRegression\n",
        "from sklearn.svm import SVC\n",
        "from sklearn.neighbors import KNeighborsClassifier\n",
        "from sklearn.tree import DecisionTreeClassifier\n",
        "from sklearn.ensemble import RandomForestClassifier\n",
        "from sklearn.naive_bayes import GaussianNB\n",
        "from sklearn.neural_network import MLPClassifier\n",
        "from xgboost import XGBClassifier\n",
        "\n",
        "model_pipleline = []\n",
        "model_pipleline.append(LogisticRegression())\n",
        "model_pipleline.append(KNeighborsClassifier())\n",
        "model_pipleline.append(DecisionTreeClassifier())\n",
        "model_pipleline.append(RandomForestClassifier())\n",
        "# model_pipleline.append(SVC())\n",
        "model_pipleline.append(XGBClassifier())\n",
        "model_pipleline.append(MLPClassifier(hidden_layer_sizes=(100,100,),random_state=42, max_iter=1000, learning_rate_init=0.0001, solver='lbfgs', alpha=0.000001, early_stopping=False, shuffle=True, warm_start=False))\n"
      ],
      "metadata": {
        "id": "5XeeDs62Ycr0"
      },
      "execution_count": null,
      "outputs": []
    },
    {
      "cell_type": "code",
      "source": [
        "from sklearn.linear_model import LogisticRegression\n",
        "from sklearn.svm import SVC\n",
        "from sklearn.neighbors import KNeighborsClassifier\n",
        "from sklearn.tree import DecisionTreeClassifier\n",
        "from sklearn.ensemble import RandomForestClassifier\n",
        "from sklearn.naive_bayes import GaussianNB\n",
        "from sklearn.neural_network import MLPClassifier\n",
        "from xgboost import XGBClassifier\n",
        "\n",
        "model_pipleline = []\n",
        "model_pipleline.append(LogisticRegression())\n",
        "model_pipleline.append(KNeighborsClassifier())\n",
        "model_pipleline.append(DecisionTreeClassifier())\n",
        "model_pipleline.append(RandomForestClassifier())\n",
        "model_pipleline.append(XGBClassifier())\n",
        "model_pipleline.append(MLPClassifier())\n"
      ],
      "metadata": {
        "id": "WiBaUvWof2U0"
      },
      "execution_count": null,
      "outputs": []
    },
    {
      "cell_type": "code",
      "source": [
        "model_list=['LogisticRegression', 'KNN', 'Decision Tree','Random Forest', 'XGBClassifier',\"MLP\"]\n",
        "acc_list = []\n",
        "auc_list = []\n",
        "cm_list = []\n",
        "f1_list=[]\n",
        "prec_list=[]\n",
        "recall_list=[]\n",
        "\n",
        "for model in model_pipleline:\n",
        "  model.fit(X_train,y_train)\n",
        "  y_pred = model.predict(X_test)\n",
        "  acc_list.append(metrics.accuracy_score(y_test, y_pred))\n",
        "  fpr, tpr, _thresholds = metrics.roc_curve(y_test, y_pred)\n",
        "  auc_list.append(round(metrics.auc(fpr, tpr),2))\n",
        "  cm_list.append(confusion_matrix(y_test, y_pred))\n",
        "  f1_list.append(f1_score(y_test,y_pred))\n",
        "  prec_list.append(precision_score(y_test,y_pred))\n",
        "  recall_list.append(recall_score(y_test,y_pred))\n"
      ],
      "metadata": {
        "id": "8C2p4xhOYhbs"
      },
      "execution_count": null,
      "outputs": []
    },
    {
      "cell_type": "code",
      "source": [
        "models = pd.DataFrame({\n",
        "    'Model':['Logistic Regression', 'Decision Tree', 'Random Forest', 'XGBoost', 'KNeighbours', 'MLP'],\n",
        "    'Accuracy_score' :acc_list\n",
        "})\n",
        "models\n",
        "sns.barplot(x='Accuracy_score', y='Model', data=models)\n",
        "\n",
        "models.sort_values(by='Accuracy_score', ascending=False)"
      ],
      "metadata": {
        "colab": {
          "base_uri": "https://localhost:8080/",
          "height": 701
        },
        "id": "3dWud8FNbanY",
        "outputId": "1c09c8d7-5bae-40a5-e6ce-ca9cb4040609"
      },
      "execution_count": null,
      "outputs": [
        {
          "output_type": "execute_result",
          "data": {
            "text/plain": [
              "                 Model  Accuracy_score\n",
              "5                  MLP        0.753333\n",
              "3              XGBoost        0.740000\n",
              "0  Logistic Regression        0.733333\n",
              "6                  SVC        0.720000\n",
              "4          KNeighbours        0.686667\n",
              "1        Decision Tree        0.673333\n",
              "2        Random Forest        0.586667"
            ],
            "text/html": [
              "\n",
              "  <div id=\"df-99316ac5-f84a-4923-a207-c69536faaa2c\">\n",
              "    <div class=\"colab-df-container\">\n",
              "      <div>\n",
              "<style scoped>\n",
              "    .dataframe tbody tr th:only-of-type {\n",
              "        vertical-align: middle;\n",
              "    }\n",
              "\n",
              "    .dataframe tbody tr th {\n",
              "        vertical-align: top;\n",
              "    }\n",
              "\n",
              "    .dataframe thead th {\n",
              "        text-align: right;\n",
              "    }\n",
              "</style>\n",
              "<table border=\"1\" class=\"dataframe\">\n",
              "  <thead>\n",
              "    <tr style=\"text-align: right;\">\n",
              "      <th></th>\n",
              "      <th>Model</th>\n",
              "      <th>Accuracy_score</th>\n",
              "    </tr>\n",
              "  </thead>\n",
              "  <tbody>\n",
              "    <tr>\n",
              "      <th>5</th>\n",
              "      <td>MLP</td>\n",
              "      <td>0.753333</td>\n",
              "    </tr>\n",
              "    <tr>\n",
              "      <th>3</th>\n",
              "      <td>XGBoost</td>\n",
              "      <td>0.740000</td>\n",
              "    </tr>\n",
              "    <tr>\n",
              "      <th>0</th>\n",
              "      <td>Logistic Regression</td>\n",
              "      <td>0.733333</td>\n",
              "    </tr>\n",
              "    <tr>\n",
              "      <th>6</th>\n",
              "      <td>SVC</td>\n",
              "      <td>0.720000</td>\n",
              "    </tr>\n",
              "    <tr>\n",
              "      <th>4</th>\n",
              "      <td>KNeighbours</td>\n",
              "      <td>0.686667</td>\n",
              "    </tr>\n",
              "    <tr>\n",
              "      <th>1</th>\n",
              "      <td>Decision Tree</td>\n",
              "      <td>0.673333</td>\n",
              "    </tr>\n",
              "    <tr>\n",
              "      <th>2</th>\n",
              "      <td>Random Forest</td>\n",
              "      <td>0.586667</td>\n",
              "    </tr>\n",
              "  </tbody>\n",
              "</table>\n",
              "</div>\n",
              "      <button class=\"colab-df-convert\" onclick=\"convertToInteractive('df-99316ac5-f84a-4923-a207-c69536faaa2c')\"\n",
              "              title=\"Convert this dataframe to an interactive table.\"\n",
              "              style=\"display:none;\">\n",
              "        \n",
              "  <svg xmlns=\"http://www.w3.org/2000/svg\" height=\"24px\"viewBox=\"0 0 24 24\"\n",
              "       width=\"24px\">\n",
              "    <path d=\"M0 0h24v24H0V0z\" fill=\"none\"/>\n",
              "    <path d=\"M18.56 5.44l.94 2.06.94-2.06 2.06-.94-2.06-.94-.94-2.06-.94 2.06-2.06.94zm-11 1L8.5 8.5l.94-2.06 2.06-.94-2.06-.94L8.5 2.5l-.94 2.06-2.06.94zm10 10l.94 2.06.94-2.06 2.06-.94-2.06-.94-.94-2.06-.94 2.06-2.06.94z\"/><path d=\"M17.41 7.96l-1.37-1.37c-.4-.4-.92-.59-1.43-.59-.52 0-1.04.2-1.43.59L10.3 9.45l-7.72 7.72c-.78.78-.78 2.05 0 2.83L4 21.41c.39.39.9.59 1.41.59.51 0 1.02-.2 1.41-.59l7.78-7.78 2.81-2.81c.8-.78.8-2.07 0-2.86zM5.41 20L4 18.59l7.72-7.72 1.47 1.35L5.41 20z\"/>\n",
              "  </svg>\n",
              "      </button>\n",
              "      \n",
              "  <style>\n",
              "    .colab-df-container {\n",
              "      display:flex;\n",
              "      flex-wrap:wrap;\n",
              "      gap: 12px;\n",
              "    }\n",
              "\n",
              "    .colab-df-convert {\n",
              "      background-color: #E8F0FE;\n",
              "      border: none;\n",
              "      border-radius: 50%;\n",
              "      cursor: pointer;\n",
              "      display: none;\n",
              "      fill: #1967D2;\n",
              "      height: 32px;\n",
              "      padding: 0 0 0 0;\n",
              "      width: 32px;\n",
              "    }\n",
              "\n",
              "    .colab-df-convert:hover {\n",
              "      background-color: #E2EBFA;\n",
              "      box-shadow: 0px 1px 2px rgba(60, 64, 67, 0.3), 0px 1px 3px 1px rgba(60, 64, 67, 0.15);\n",
              "      fill: #174EA6;\n",
              "    }\n",
              "\n",
              "    [theme=dark] .colab-df-convert {\n",
              "      background-color: #3B4455;\n",
              "      fill: #D2E3FC;\n",
              "    }\n",
              "\n",
              "    [theme=dark] .colab-df-convert:hover {\n",
              "      background-color: #434B5C;\n",
              "      box-shadow: 0px 1px 3px 1px rgba(0, 0, 0, 0.15);\n",
              "      filter: drop-shadow(0px 1px 2px rgba(0, 0, 0, 0.3));\n",
              "      fill: #FFFFFF;\n",
              "    }\n",
              "  </style>\n",
              "\n",
              "      <script>\n",
              "        const buttonEl =\n",
              "          document.querySelector('#df-99316ac5-f84a-4923-a207-c69536faaa2c button.colab-df-convert');\n",
              "        buttonEl.style.display =\n",
              "          google.colab.kernel.accessAllowed ? 'block' : 'none';\n",
              "\n",
              "        async function convertToInteractive(key) {\n",
              "          const element = document.querySelector('#df-99316ac5-f84a-4923-a207-c69536faaa2c');\n",
              "          const dataTable =\n",
              "            await google.colab.kernel.invokeFunction('convertToInteractive',\n",
              "                                                     [key], {});\n",
              "          if (!dataTable) return;\n",
              "\n",
              "          const docLinkHtml = 'Like what you see? Visit the ' +\n",
              "            '<a target=\"_blank\" href=https://colab.research.google.com/notebooks/data_table.ipynb>data table notebook</a>'\n",
              "            + ' to learn more about interactive tables.';\n",
              "          element.innerHTML = '';\n",
              "          dataTable['output_type'] = 'display_data';\n",
              "          await google.colab.output.renderOutput(dataTable, element);\n",
              "          const docLink = document.createElement('div');\n",
              "          docLink.innerHTML = docLinkHtml;\n",
              "          element.appendChild(docLink);\n",
              "        }\n",
              "      </script>\n",
              "    </div>\n",
              "  </div>\n",
              "  "
            ]
          },
          "metadata": {},
          "execution_count": 101
        },
        {
          "output_type": "display_data",
          "data": {
            "text/plain": [
              "<Figure size 640x480 with 1 Axes>"
            ],
            "image/png": "[encoded data removed]"
          },
          "metadata": {}
        }
      ]
    },
    {
      "cell_type": "code",
      "source": [
        "\n",
        "result_df = pd.DataFrame({'Model':model_list, 'Accruacy':np.round(acc_list,2), 'AUC':auc_list,\n",
        "                           'F-1 Score':np.round(f1_list,2), 'Precision':np.round(prec_list,2), \"Recall\":np.round(recall_list,2)\n",
        "                          })\n",
        "result_df"
      ],
      "metadata": {
        "colab": {
          "base_uri": "https://localhost:8080/",
          "height": 269
        },
        "id": "zeHE4QWoaR8z",
        "outputId": "988d5e90-a99f-4817-c970-2ade52b81240"
      },
      "execution_count": null,
      "outputs": [
        {
          "output_type": "execute_result",
          "data": {
            "text/plain": [
              "                Model  Accruacy   AUC  F-1 Score  Precision  Recall\n",
              "0  LogisticRegression      0.73  0.64       0.49       0.61    0.40\n",
              "1                 KNN      0.67  0.58       0.38       0.47    0.32\n",
              "2       Decision Tree      0.59  0.53       0.37       0.35    0.38\n",
              "3       Random Forest      0.74  0.64       0.47       0.65    0.36\n",
              "4       XGBClassifier      0.69  0.50       0.00       0.00    0.00\n",
              "5                 MLP      0.75  0.70       0.59       0.61    0.57\n",
              "6                 SVC      0.72  0.63       0.48       0.58    0.40"
            ],
            "text/html": [
              "\n",
              "  <div id=\"df-e93b59a8-b522-45be-b443-a649e343abbb\">\n",
              "    <div class=\"colab-df-container\">\n",
              "      <div>\n",
              "<style scoped>\n",
              "    .dataframe tbody tr th:only-of-type {\n",
              "        vertical-align: middle;\n",
              "    }\n",
              "\n",
              "    .dataframe tbody tr th {\n",
              "        vertical-align: top;\n",
              "    }\n",
              "\n",
              "    .dataframe thead th {\n",
              "        text-align: right;\n",
              "    }\n",
              "</style>\n",
              "<table border=\"1\" class=\"dataframe\">\n",
              "  <thead>\n",
              "    <tr style=\"text-align: right;\">\n",
              "      <th></th>\n",
              "      <th>Model</th>\n",
              "      <th>Accruacy</th>\n",
              "      <th>AUC</th>\n",
              "      <th>F-1 Score</th>\n",
              "      <th>Precision</th>\n",
              "      <th>Recall</th>\n",
              "    </tr>\n",
              "  </thead>\n",
              "  <tbody>\n",
              "    <tr>\n",
              "      <th>0</th>\n",
              "      <td>LogisticRegression</td>\n",
              "      <td>0.73</td>\n",
              "      <td>0.64</td>\n",
              "      <td>0.49</td>\n",
              "      <td>0.61</td>\n",
              "      <td>0.40</td>\n",
              "    </tr>\n",
              "    <tr>\n",
              "      <th>1</th>\n",
              "      <td>KNN</td>\n",
              "      <td>0.67</td>\n",
              "      <td>0.58</td>\n",
              "      <td>0.38</td>\n",
              "      <td>0.47</td>\n",
              "      <td>0.32</td>\n",
              "    </tr>\n",
              "    <tr>\n",
              "      <th>2</th>\n",
              "      <td>Decision Tree</td>\n",
              "      <td>0.59</td>\n",
              "      <td>0.53</td>\n",
              "      <td>0.37</td>\n",
              "      <td>0.35</td>\n",
              "      <td>0.38</td>\n",
              "    </tr>\n",
              "    <tr>\n",
              "      <th>3</th>\n",
              "      <td>Random Forest</td>\n",
              "      <td>0.74</td>\n",
              "      <td>0.64</td>\n",
              "      <td>0.47</td>\n",
              "      <td>0.65</td>\n",
              "      <td>0.36</td>\n",
              "    </tr>\n",
              "    <tr>\n",
              "      <th>4</th>\n",
              "      <td>XGBClassifier</td>\n",
              "      <td>0.69</td>\n",
              "      <td>0.50</td>\n",
              "      <td>0.00</td>\n",
              "      <td>0.00</td>\n",
              "      <td>0.00</td>\n",
              "    </tr>\n",
              "    <tr>\n",
              "      <th>5</th>\n",
              "      <td>MLP</td>\n",
              "      <td>0.75</td>\n",
              "      <td>0.70</td>\n",
              "      <td>0.59</td>\n",
              "      <td>0.61</td>\n",
              "      <td>0.57</td>\n",
              "    </tr>\n",
              "    <tr>\n",
              "      <th>6</th>\n",
              "      <td>SVC</td>\n",
              "      <td>0.72</td>\n",
              "      <td>0.63</td>\n",
              "      <td>0.48</td>\n",
              "      <td>0.58</td>\n",
              "      <td>0.40</td>\n",
              "    </tr>\n",
              "  </tbody>\n",
              "</table>\n",
              "</div>\n",
              "      <button class=\"colab-df-convert\" onclick=\"convertToInteractive('df-e93b59a8-b522-45be-b443-a649e343abbb')\"\n",
              "              title=\"Convert this dataframe to an interactive table.\"\n",
              "              style=\"display:none;\">\n",
              "        \n",
              "  <svg xmlns=\"http://www.w3.org/2000/svg\" height=\"24px\"viewBox=\"0 0 24 24\"\n",
              "       width=\"24px\">\n",
              "    <path d=\"M0 0h24v24H0V0z\" fill=\"none\"/>\n",
              "    <path d=\"M18.56 5.44l.94 2.06.94-2.06 2.06-.94-2.06-.94-.94-2.06-.94 2.06-2.06.94zm-11 1L8.5 8.5l.94-2.06 2.06-.94-2.06-.94L8.5 2.5l-.94 2.06-2.06.94zm10 10l.94 2.06.94-2.06 2.06-.94-2.06-.94-.94-2.06-.94 2.06-2.06.94z\"/><path d=\"M17.41 7.96l-1.37-1.37c-.4-.4-.92-.59-1.43-.59-.52 0-1.04.2-1.43.59L10.3 9.45l-7.72 7.72c-.78.78-.78 2.05 0 2.83L4 21.41c.39.39.9.59 1.41.59.51 0 1.02-.2 1.41-.59l7.78-7.78 2.81-2.81c.8-.78.8-2.07 0-2.86zM5.41 20L4 18.59l7.72-7.72 1.47 1.35L5.41 20z\"/>\n",
              "  </svg>\n",
              "      </button>\n",
              "      \n",
              "  <style>\n",
              "    .colab-df-container {\n",
              "      display:flex;\n",
              "      flex-wrap:wrap;\n",
              "      gap: 12px;\n",
              "    }\n",
              "\n",
              "    .colab-df-convert {\n",
              "      background-color: #E8F0FE;\n",
              "      border: none;\n",
              "      border-radius: 50%;\n",
              "      cursor: pointer;\n",
              "      display: none;\n",
              "      fill: #1967D2;\n",
              "      height: 32px;\n",
              "      padding: 0 0 0 0;\n",
              "      width: 32px;\n",
              "    }\n",
              "\n",
              "    .colab-df-convert:hover {\n",
              "      background-color: #E2EBFA;\n",
              "      box-shadow: 0px 1px 2px rgba(60, 64, 67, 0.3), 0px 1px 3px 1px rgba(60, 64, 67, 0.15);\n",
              "      fill: #174EA6;\n",
              "    }\n",
              "\n",
              "    [theme=dark] .colab-df-convert {\n",
              "      background-color: #3B4455;\n",
              "      fill: #D2E3FC;\n",
              "    }\n",
              "\n",
              "    [theme=dark] .colab-df-convert:hover {\n",
              "      background-color: #434B5C;\n",
              "      box-shadow: 0px 1px 3px 1px rgba(0, 0, 0, 0.15);\n",
              "      filter: drop-shadow(0px 1px 2px rgba(0, 0, 0, 0.3));\n",
              "      fill: #FFFFFF;\n",
              "    }\n",
              "  </style>\n",
              "\n",
              "      <script>\n",
              "        const buttonEl =\n",
              "          document.querySelector('#df-e93b59a8-b522-45be-b443-a649e343abbb button.colab-df-convert');\n",
              "        buttonEl.style.display =\n",
              "          google.colab.kernel.accessAllowed ? 'block' : 'none';\n",
              "\n",
              "        async function convertToInteractive(key) {\n",
              "          const element = document.querySelector('#df-e93b59a8-b522-45be-b443-a649e343abbb');\n",
              "          const dataTable =\n",
              "            await google.colab.kernel.invokeFunction('convertToInteractive',\n",
              "                                                     [key], {});\n",
              "          if (!dataTable) return;\n",
              "\n",
              "          const docLinkHtml = 'Like what you see? Visit the ' +\n",
              "            '<a target=\"_blank\" href=https://colab.research.google.com/notebooks/data_table.ipynb>data table notebook</a>'\n",
              "            + ' to learn more about interactive tables.';\n",
              "          element.innerHTML = '';\n",
              "          dataTable['output_type'] = 'display_data';\n",
              "          await google.colab.output.renderOutput(dataTable, element);\n",
              "          const docLink = document.createElement('div');\n",
              "          docLink.innerHTML = docLinkHtml;\n",
              "          element.appendChild(docLink);\n",
              "        }\n",
              "      </script>\n",
              "    </div>\n",
              "  </div>\n",
              "  "
            ]
          },
          "metadata": {},
          "execution_count": 108
        }
      ]
    },
    {
      "cell_type": "markdown",
      "source": [
        "#### MULTI LAYER PERCEPTRON"
      ],
      "metadata": {
        "id": "gJoNaejbaeTr"
      }
    },
    {
      "cell_type": "markdown",
      "source": [
        "##### model composition"
      ],
      "metadata": {
        "id": "YGvqqJ9WbMIE"
      }
    },
    {
      "cell_type": "code",
      "source": [
        "# scaling X data\n",
        "\n",
        "X_train_scaled = (X_train - X_train.mean(axis=0)) / X_train.std(axis=0)\n",
        "# X_val_scaled = (X_val - X_val.mean(axis=0)) / X_val.std(axis=0)\n",
        "X_test_scaled= (X_test - X_test.mean(axis=0)) / X_test.std(axis=0)"
      ],
      "metadata": {
        "id": "mG1Phs8nqIRj"
      },
      "execution_count": null,
      "outputs": []
    },
    {
      "cell_type": "markdown",
      "source": [
        "##### model training"
      ],
      "metadata": {
        "id": "qVfTIqMAdGNc"
      }
    },
    {
      "cell_type": "code",
      "source": [
        "# from sklearn.neural_network import MLPClassifier\n",
        "\n",
        "# # X_train_scaled = (X_train - X_train.mean(axis=0)) / X_train.std(axis=0)\n",
        "# # X_test_scaled= (X_test - X_test.mean(axis=0)) / X_test.std(axis=0)\n",
        "\n",
        "# # model=MLPClassifier(random_state=2)\n",
        "# mlp=MLPClassifier(hidden_layer_sizes=(16,8), activation='relu', solver='adam',random_state=2)\n",
        "# mlp.fit(X_train,y_train)\n",
        "# y_pred = mlp.predict(X_test)\n",
        "\n",
        "# print(\"Train set score: {:.3f}\".format(mlp.score(X_train, y_train)))\n",
        "# print(\"Test set score: {:.3f}\".format(mlp.score(X_test, y_test)))\n",
        "# #print(mlp.score(y_test, y_pred))\n",
        "# score = roc_auc_score(y_test, y_pred)"
      ],
      "metadata": {
        "id": "JSXufpAd6f0P"
      },
      "execution_count": null,
      "outputs": []
    },
    {
      "cell_type": "code",
      "source": [
        "from sklearn.neural_network import MLPClassifier, MLPRegressor\n",
        "\n",
        "# mlp=MLPClassifier(hidden_layer_sizes=(10,),random_state=2,max_iter=1000,learning_rate_init=0.005, activation='relu',solver='sgd')\n",
        "mlp=MLPClassifier(hidden_layer_sizes=(10,),random_state=2,max_iter=1000,learning_rate_init=0.0008, activation='relu',solver='sgd',alpha=0.0001)\n",
        "# mlp=MLPRegressor(hidden_layer_sizes=(100,),random_state=2,max_iter=1000,learning_rate_init=0.0008, activation='relu',solver='sgd')\n",
        "mlp.fit(X_train_scaled,y_train)\n",
        "\n",
        "train_set_score = mlp.score(X_train_scaled, y_train)\n",
        "# val_set_score = mlp.score(X_val_scaled, y_val)\n",
        "test_set_score=mlp.score(X_test_scaled, y_test)\n",
        "\n",
        "print(\"Train set score: {:.3f}\".format(train_set_score))\n",
        "# print(\"Val set score: {:.3f}\".format(val_set_score))\n",
        "print(\"Test set score: {:.3f}\".format(test_set_score))"
      ],
      "metadata": {
        "colab": {
          "base_uri": "https://localhost:8080/"
        },
        "id": "PwMKWKzFULeN",
        "outputId": "838782b6-3766-442d-fedc-ec3740522cbd"
      },
      "execution_count": null,
      "outputs": [
        {
          "output_type": "stream",
          "name": "stdout",
          "text": [
            "Train set score: 0.757\n",
            "Test set score: 0.713\n"
          ]
        }
      ]
    },
    {
      "cell_type": "markdown",
      "source": [
        "### 평가지표"
      ],
      "metadata": {
        "id": "NRQU4lRJgaho"
      }
    },
    {
      "cell_type": "code",
      "source": [
        "from yellowbrick.classifier import ROCAUC\n",
        "fig,ax= plt.subplots(figsize=(10,10))\n",
        "roc_viz= ROCAUC(mlp,micro=False,macro=False, classes=[\"0\", \"1\"])\n",
        "roc_viz.fit(X_train,y_train)\n",
        "roc_viz.score(X_test, y_test)\n",
        "roc_viz.show()"
      ],
      "metadata": {
        "colab": {
          "base_uri": "https://localhost:8080/",
          "height": 889
        },
        "id": "8iYpkx4TdZME",
        "outputId": "2ba4b56a-e1b3-408b-db19-6f5bb625e959"
      },
      "execution_count": null,
      "outputs": [
        {
          "output_type": "display_data",
          "data": {
            "text/plain": [
              "<Figure size 1000x1000 with 1 Axes>"
            ],
            "image/png": "[encoded data removed]"
          },
          "metadata": {}
        },
        {
          "output_type": "execute_result",
          "data": {
            "text/plain": [
              "<Axes: title={'center': 'ROC Curves for MLPClassifier'}, xlabel='False Positive Rate', ylabel='True Positive Rate'>"
            ]
          },
          "metadata": {},
          "execution_count": 109
        }
      ]
    },
    {
      "cell_type": "code",
      "source": [
        "pred_positive_label = mlp.predict_proba(X_test)[:,1]\n",
        "# pred_positive_label = model.predict_proba(X_test)[:,1]\n",
        "fprs, tprs, thresholds = roc_curve(y_test, pred_positive_label)\n",
        "precisions, recalls, thresholds = roc_curve(y_test, pred_positive_label)\n",
        "plt.figure(figsize=(15,15))\n",
        "# 대각선\n",
        "plt.plot([0,1],[0,1],label='STR')\n",
        "# ROC\n",
        "plt.plot(fprs,tprs,label='ROC')\n",
        "plt.xlabel('FPR')\n",
        "plt.ylabel('TPR')\n",
        "plt.legend()\n",
        "plt.grid()\n",
        "plt.show()"
      ],
      "metadata": {
        "colab": {
          "base_uri": "https://localhost:8080/",
          "height": 1000
        },
        "id": "XPEfRrPm59ov",
        "outputId": "c5de9e96-4bf2-4d45-c2b9-2a0cb9fcac6b"
      },
      "execution_count": null,
      "outputs": [
        {
          "output_type": "display_data",
          "data": {
            "text/plain": [
              "<Figure size 1500x1500 with 1 Axes>"
            ],
            "image/png": "[encoded data removed]"
          },
          "metadata": {}
        }
      ]
    },
    {
      "cell_type": "code",
      "source": [],
      "metadata": {
        "id": "G2_ADt8hmPD8"
      },
      "execution_count": null,
      "outputs": []
    }
  ]
}